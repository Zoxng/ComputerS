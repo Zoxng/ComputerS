{
  "nbformat": 4,
  "nbformat_minor": 0,
  "metadata": {
    "colab": {
      "provenance": [],
      "authorship_tag": "ABX9TyOY8NEGr7tSHLK6WGNwflGf",
      "include_colab_link": true
    },
    "kernelspec": {
      "name": "python3",
      "display_name": "Python 3"
    },
    "language_info": {
      "name": "python"
    }
  },
  "cells": [
    {
      "cell_type": "markdown",
      "metadata": {
        "id": "view-in-github",
        "colab_type": "text"
      },
      "source": [
        "<a href=\"https://colab.research.google.com/github/Zoxng/ComputerS/blob/main/Untitled12.ipynb\" target=\"_parent\"><img src=\"https://colab.research.google.com/assets/colab-badge.svg\" alt=\"Open In Colab\"/></a>"
      ]
    },
    {
      "cell_type": "code",
      "execution_count": 6,
      "metadata": {
        "id": "hMMeWrBB2109"
      },
      "outputs": [],
      "source": [
        "list1 = range(0,9,1)"
      ]
    },
    {
      "cell_type": "code",
      "source": [
        "list(list1)"
      ],
      "metadata": {
        "colab": {
          "base_uri": "https://localhost:8080/"
        },
        "id": "O3Jc5LIX9YQ6",
        "outputId": "2c49a6fb-2190-469a-bdfb-79fd0edc1655"
      },
      "execution_count": 7,
      "outputs": [
        {
          "output_type": "execute_result",
          "data": {
            "text/plain": [
              "[0, 1, 2, 3, 4, 5, 6, 7, 8]"
            ]
          },
          "metadata": {},
          "execution_count": 7
        }
      ]
    },
    {
      "cell_type": "code",
      "source": [
        "list2 = range(1,10,1)"
      ],
      "metadata": {
        "id": "dFs-yKKe8kCb"
      },
      "execution_count": 8,
      "outputs": []
    },
    {
      "cell_type": "code",
      "source": [
        "list(list2)"
      ],
      "metadata": {
        "colab": {
          "base_uri": "https://localhost:8080/"
        },
        "id": "iS7OFZCy8kFK",
        "outputId": "ebaa621d-e3bb-45a9-e20d-bc4ea4486830"
      },
      "execution_count": 9,
      "outputs": [
        {
          "output_type": "execute_result",
          "data": {
            "text/plain": [
              "[1, 2, 3, 4, 5, 6, 7, 8, 9]"
            ]
          },
          "metadata": {},
          "execution_count": 9
        }
      ]
    },
    {
      "cell_type": "code",
      "source": [
        "list3 = range(1,10,2)"
      ],
      "metadata": {
        "id": "bfxQJw9R8kH6"
      },
      "execution_count": 10,
      "outputs": []
    },
    {
      "cell_type": "code",
      "source": [
        "list(list3)"
      ],
      "metadata": {
        "colab": {
          "base_uri": "https://localhost:8080/"
        },
        "id": "s2_iazxU8kKK",
        "outputId": "6b1524e7-c731-47f3-ffc7-1520cf0ecd36"
      },
      "execution_count": 11,
      "outputs": [
        {
          "output_type": "execute_result",
          "data": {
            "text/plain": [
              "[1, 3, 5, 7, 9]"
            ]
          },
          "metadata": {},
          "execution_count": 11
        }
      ]
    },
    {
      "cell_type": "code",
      "source": [
        "list4 = range(10,1,-2)"
      ],
      "metadata": {
        "id": "FXNRRmUd9xDT"
      },
      "execution_count": 12,
      "outputs": []
    },
    {
      "cell_type": "code",
      "source": [
        "list(list4)"
      ],
      "metadata": {
        "colab": {
          "base_uri": "https://localhost:8080/"
        },
        "id": "OlA847aH9xGZ",
        "outputId": "d4c8e2a3-fd1a-44bb-ea39-6c3101d13a67"
      },
      "execution_count": 13,
      "outputs": [
        {
          "output_type": "execute_result",
          "data": {
            "text/plain": [
              "[10, 8, 6, 4, 2]"
            ]
          },
          "metadata": {},
          "execution_count": 13
        }
      ]
    },
    {
      "cell_type": "code",
      "source": [
        "n = int(input(\"請輸入一個正整數: \"))\n",
        "for n in range(n):\n",
        "  print(n+1,end=\",\")"
      ],
      "metadata": {
        "colab": {
          "base_uri": "https://localhost:8080/"
        },
        "id": "gJf_VkXE95by",
        "outputId": "382304bf-596e-4761-ab5c-cfb228031abf"
      },
      "execution_count": 18,
      "outputs": [
        {
          "output_type": "stream",
          "name": "stdout",
          "text": [
            "請輸入一個正整數: 5\n",
            "1,2,3,4,5,"
          ]
        }
      ]
    },
    {
      "cell_type": "code",
      "source": [
        "n = int(input(\"請輸入一個正整數: \"))\n",
        "for n in range(n):\n",
        "  print(n+1,end=\",\")"
      ],
      "metadata": {
        "colab": {
          "base_uri": "https://localhost:8080/"
        },
        "id": "jBHo4s3195eK",
        "outputId": "2673a1f1-ea96-46f4-c214-741606ea1e02"
      },
      "execution_count": 19,
      "outputs": [
        {
          "output_type": "stream",
          "name": "stdout",
          "text": [
            "請輸入一個正整數: 12\n",
            "1,2,3,4,5,6,7,8,9,10,11,12,"
          ]
        }
      ]
    },
    {
      "cell_type": "code",
      "source": [
        "n = int(input(\"請輸入一個正整數: \"))\n",
        "sum = 0\n",
        "for n in range(n+1):\n",
        "  sum = sum+n\n",
        "print(sum)"
      ],
      "metadata": {
        "colab": {
          "base_uri": "https://localhost:8080/"
        },
        "id": "gfwQvz7695lJ",
        "outputId": "4e0bd634-2e21-416a-a1d6-ff11ce268837"
      },
      "execution_count": 21,
      "outputs": [
        {
          "output_type": "stream",
          "name": "stdout",
          "text": [
            "請輸入一個正整數: 10\n",
            "55\n"
          ]
        }
      ]
    },
    {
      "cell_type": "code",
      "source": [
        "n = int(input(\"請輸入一個正整數: \"))\n",
        "sum = 0\n",
        "for n in range(n+1):\n",
        "  sum = sum+n\n",
        "print(sum)"
      ],
      "metadata": {
        "colab": {
          "base_uri": "https://localhost:8080/"
        },
        "id": "xnXbH2xN95na",
        "outputId": "d5120e21-65b7-4f9e-ba51-0d64edfdc82f"
      },
      "execution_count": 22,
      "outputs": [
        {
          "output_type": "stream",
          "name": "stdout",
          "text": [
            "請輸入一個正整數: 50\n",
            "1275\n"
          ]
        }
      ]
    },
    {
      "cell_type": "code",
      "source": [
        "n = int(input(\"請輸入一個正整數: \"))\n",
        "total = 0\n",
        "for i in range(1,n+1):\n",
        "  total += i\n",
        "  sum_list.append(total)\n",
        "print(\"1到\",n,\"的整數合為:\",)"
      ],
      "metadata": {
        "colab": {
          "base_uri": "https://localhost:8080/",
          "height": 132
        },
        "id": "0_nYA1ME95sL",
        "outputId": "b6f447fd-3d60-4ef8-af44-9da1f5ded74d"
      },
      "execution_count": 3,
      "outputs": [
        {
          "output_type": "error",
          "ename": "SyntaxError",
          "evalue": "ignored",
          "traceback": [
            "\u001b[0;36m  File \u001b[0;32m\"<ipython-input-3-3b563695f03b>\"\u001b[0;36m, line \u001b[0;32m6\u001b[0m\n\u001b[0;31m    print(\"1到\",n,\"的整數合為:　\",ｔｏｔａｌ)\u001b[0m\n\u001b[0m    ^\u001b[0m\n\u001b[0;31mSyntaxError\u001b[0m\u001b[0;31m:\u001b[0m invalid non-printable character U+3000\n"
          ]
        }
      ]
    },
    {
      "cell_type": "code",
      "source": [
        "n = int(input(\"請輸入一個正整數: \"))\n",
        "total = 0\n",
        "for i in range(1,n+1):\n",
        "  total += i\n",
        "  print(\"1到\",n,\"的整數和］為:\",total)"
      ],
      "metadata": {
        "colab": {
          "base_uri": "https://localhost:8080/"
        },
        "id": "XAJZ7XButhS5",
        "outputId": "7d07ce7e-e1aa-4014-d01e-9fd852fe3fa7"
      },
      "execution_count": 7,
      "outputs": [
        {
          "output_type": "stream",
          "name": "stdout",
          "text": [
            "請輸入一個正整數: １０\n",
            "1到 10 的整數和］為: 1\n",
            "1到 10 的整數和］為: 3\n",
            "1到 10 的整數和］為: 6\n",
            "1到 10 的整數和］為: 10\n",
            "1到 10 的整數和］為: 15\n",
            "1到 10 的整數和］為: 21\n",
            "1到 10 的整數和］為: 28\n",
            "1到 10 的整數和］為: 36\n",
            "1到 10 的整數和］為: 45\n",
            "1到 10 的整數和］為: 55\n"
          ]
        }
      ]
    }
  ]
}