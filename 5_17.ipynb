{
  "nbformat": 4,
  "nbformat_minor": 0,
  "metadata": {
    "colab": {
      "provenance": [],
      "authorship_tag": "ABX9TyP3b+obw6BPW5o2yu/1XMSf",
      "include_colab_link": true
    },
    "kernelspec": {
      "name": "python3",
      "display_name": "Python 3"
    },
    "language_info": {
      "name": "python"
    }
  },
  "cells": [
    {
      "cell_type": "markdown",
      "metadata": {
        "id": "view-in-github",
        "colab_type": "text"
      },
      "source": [
        "<a href=\"https://colab.research.google.com/github/Zoxng/ComputerS/blob/main/5_17.ipynb\" target=\"_parent\"><img src=\"https://colab.research.google.com/assets/colab-badge.svg\" alt=\"Open In Colab\"/></a>"
      ]
    },
    {
      "cell_type": "code",
      "execution_count": null,
      "metadata": {
        "colab": {
          "base_uri": "https://localhost:8080/"
        },
        "id": "bAens0XyzLQm",
        "outputId": "82f5fd49-e4e6-4071-aff9-cfc32ed84ebd"
      },
      "outputs": [
        {
          "output_type": "stream",
          "name": "stdout",
          "text": [
            "score: 85\n",
            "Grade is: B\n"
          ]
        }
      ],
      "source": [
        "score = int(input(\"score: \"))\n",
        "if score >= 90:\n",
        "    print('Grade is: A')\n",
        "elif score >= 80:\n",
        "    print('Grade is: B')\n",
        "elif score >= 70:\n",
        "    print('Grade is: C')\n",
        "elif score >= 60:\n",
        "    print('Grade is: D')\n",
        "else:\n",
        "    print('Grade is: F')"
      ]
    },
    {
      "cell_type": "code",
      "source": [
        "rain = input(\"今天會下雨嗎: \")\n",
        "if (rain ==\"y\" or rain ==\"Y\"):\n",
        "  print(\"出門記得帶傘!\")\n",
        "else:\n",
        "  print(\"請重新輸入y or Y!\")"
      ],
      "metadata": {
        "colab": {
          "base_uri": "https://localhost:8080/"
        },
        "id": "Po6t-3sz1D-D",
        "outputId": "d3114338-e676-45c5-d45a-39adca937bf8"
      },
      "execution_count": 5,
      "outputs": [
        {
          "output_type": "stream",
          "name": "stdout",
          "text": [
            "今天會下雨嗎: f\n",
            "請重新輸入y or Y!\n"
          ]
        }
      ]
    },
    {
      "cell_type": "code",
      "source": [
        "tem = int(input(\"你的體溫是: \"))\n",
        "if tem >= 40:\n",
        "  print('腦子燒壞啦!')\n",
        "elif tem >= 37.5:\n",
        "  print('體溫過高!')\n",
        "elif tem >= 37:\n",
        "  print('體溫偏高!')\n",
        "elif tem >= 34:\n",
        "  print('體溫正常!')\n",
        "else:\n",
        "  print('體溫異常，請重新測量!')"
      ],
      "metadata": {
        "colab": {
          "base_uri": "https://localhost:8080/"
        },
        "id": "WzndSc6M1EDY",
        "outputId": "474b609a-76b9-49e9-8a75-11c7cdc0b590"
      },
      "execution_count": null,
      "outputs": [
        {
          "output_type": "stream",
          "name": "stdout",
          "text": [
            "你的體溫是: 41\n",
            "腦子燒壞啦!\n"
          ]
        }
      ]
    },
    {
      "cell_type": "code",
      "source": [
        "score = int(input(\"請輸入成績: \"))\n",
        "if score >= 90:\n",
        "    print('A')\n",
        "elif score >= 80:\n",
        "    print('B')\n",
        "elif score >= 70:\n",
        "    print('C')\n",
        "elif score >= 60:\n",
        "    print('D')\n",
        "else:\n",
        "    print('E')"
      ],
      "metadata": {
        "colab": {
          "base_uri": "https://localhost:8080/"
        },
        "id": "eGdLRldP1EJh",
        "outputId": "9af494d1-7004-41be-fde6-4a4ca0a2d5b6"
      },
      "execution_count": null,
      "outputs": [
        {
          "output_type": "stream",
          "name": "stdout",
          "text": [
            "請輸入成績: 59\n",
            "E\n"
          ]
        }
      ]
    },
    {
      "cell_type": "code",
      "source": [
        "mon = int(input(\"請輸入月份: \"))\n",
        "if mon == 3 or mon == 4 or mon == 5:\n",
        "  print(mon,\"月是春天!\")\n",
        "elif mon == 6 or mon == 7 or mon == 8:\n",
        "  print(mon,\"月是夏天!\")\n",
        "elif mon == 9 or mon == 10 or mon == 11:\n",
        "  print(mon,\"月是秋天!\")\n",
        "elif mon == 12 or mon == 1 or mon == 2:\n",
        "  print(mon,\"月是冬天!\")\n",
        "else:\n",
        "  print('月份不再範圍內!')\n"
      ],
      "metadata": {
        "colab": {
          "base_uri": "https://localhost:8080/"
        },
        "id": "H5TytI0A1EPg",
        "outputId": "3f02be89-68b7-4cc1-c591-dbeb8a2e8509"
      },
      "execution_count": 1,
      "outputs": [
        {
          "output_type": "stream",
          "name": "stdout",
          "text": [
            "請輸入月份: 8\n",
            "8 月是夏天!\n"
          ]
        }
      ]
    },
    {
      "cell_type": "code",
      "source": [
        "mon = int(input(\"請輸入今年收入淨額: \"))\n",
        "if mon >= 2000000:\n",
        "  mon = mon*0.3\n",
        "elif mon >= 1000000:  \n",
        "  mon = mon*0.21\n",
        "elif mon >= 600000:  \n",
        "  mon = mon*0.13\n",
        "elif mon >= 300000:\n",
        "  mon = mon*0.06\n",
        "print(\"付稅金額: \",mon)"
      ],
      "metadata": {
        "id": "Or2OtIGH1EVS",
        "colab": {
          "base_uri": "https://localhost:8080/"
        },
        "outputId": "8cd6f3e2-40ca-4bff-856c-676c8700eea4"
      },
      "execution_count": 3,
      "outputs": [
        {
          "output_type": "stream",
          "name": "stdout",
          "text": [
            "請輸入今年收入淨額: 2000000\n",
            "付稅金額:  600000.0\n"
          ]
        }
      ]
    }
  ]
}