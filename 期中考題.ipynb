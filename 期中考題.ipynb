{
  "nbformat": 4,
  "nbformat_minor": 0,
  "metadata": {
    "colab": {
      "provenance": [],
      "authorship_tag": "ABX9TyNe9dKm9vCmdQVNW0UXDovw",
      "include_colab_link": true
    },
    "kernelspec": {
      "name": "python3",
      "display_name": "Python 3"
    },
    "language_info": {
      "name": "python"
    }
  },
  "cells": [
    {
      "cell_type": "markdown",
      "metadata": {
        "id": "view-in-github",
        "colab_type": "text"
      },
      "source": [
        "<a href=\"https://colab.research.google.com/github/Zoxng/ComputerS/blob/main/%E6%9C%9F%E4%B8%AD%E8%80%83%E9%A1%8C.ipynb\" target=\"_parent\"><img src=\"https://colab.research.google.com/assets/colab-badge.svg\" alt=\"Open In Colab\"/></a>"
      ]
    },
    {
      "cell_type": "code",
      "execution_count": 1,
      "metadata": {
        "colab": {
          "base_uri": "https://localhost:8080/"
        },
        "id": "9ka1MeNptarf",
        "outputId": "610f4852-6cc7-4b3e-e2fd-4a8a687ce4bd"
      },
      "outputs": [
        {
          "output_type": "stream",
          "name": "stdout",
          "text": [
            "panda\n",
            "panda\n"
          ]
        }
      ],
      "source": [
        "z = input()\n",
        "print(z)"
      ]
    },
    {
      "cell_type": "code",
      "source": [
        "totalz = 0\n",
        "N = int(input())\n",
        "for i in range(10,N+1):\n",
        "  totalz += i\n",
        "print(totalz)"
      ],
      "metadata": {
        "colab": {
          "base_uri": "https://localhost:8080/"
        },
        "id": "QwfhICNpwr1Y",
        "outputId": "190315c8-7b32-43c8-a2cb-4cef933df5e8"
      },
      "execution_count": 5,
      "outputs": [
        {
          "output_type": "stream",
          "name": "stdout",
          "text": [
            "15\n",
            "75\n"
          ]
        }
      ]
    },
    {
      "cell_type": "code",
      "source": [
        "h,w = input().split()\n",
        "new_h = int(h)\n",
        "new_w = int(w)\n",
        "m_h = new_h / 100\n",
        "bmi = new_w / m_h**2\n",
        "print(\"%.2f\" % bmi)"
      ],
      "metadata": {
        "colab": {
          "base_uri": "https://localhost:8080/"
        },
        "id": "2tS0pCrOwr6v",
        "outputId": "14b14a12-236e-4504-8f28-6c440578c1f4"
      },
      "execution_count": 6,
      "outputs": [
        {
          "output_type": "stream",
          "name": "stdout",
          "text": [
            "180 70\n",
            "21.60\n"
          ]
        }
      ]
    },
    {
      "cell_type": "code",
      "source": [
        "z = input()\n",
        "print(len(z))"
      ],
      "metadata": {
        "colab": {
          "base_uri": "https://localhost:8080/"
        },
        "id": "TJUgYQivwsAH",
        "outputId": "18363925-3e47-4737-cb35-183ca191e081"
      },
      "execution_count": 7,
      "outputs": [
        {
          "output_type": "stream",
          "name": "stdout",
          "text": [
            "hello panda hi hi\n",
            "17\n"
          ]
        }
      ]
    }
  ]
}